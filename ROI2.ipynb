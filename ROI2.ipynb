{
 "cells": [
  {
   "cell_type": "markdown",
   "id": "c1301f85",
   "metadata": {},
   "source": [
    "<p>Here we assume that we have a client coming to us askingfor anautomated rental property calculater.</ br>\n",
    "Using OOP create a program that will calculate the return on investment for a rental property.</p>"
   ]
  },
  {
   "cell_type": "code",
   "execution_count": null,
   "id": "8ed71af0",
   "metadata": {},
   "outputs": [],
   "source": [
    "#since methods are functions that act upon specific classes I should make the methods calculators"
   ]
  },
  {
   "cell_type": "code",
   "execution_count": null,
   "id": "9a49a207",
   "metadata": {},
   "outputs": [],
   "source": [
    "#I want to give the user the option to input detailed or, to a lesser degree, itemized  financial informatio, like \n",
    "# sources of income, expenses etc.\n",
    "\n",
    "#need input for sources of income and the value of that income, and then need to append it to a dictionary."
   ]
  },
  {
   "cell_type": "code",
   "execution_count": 1,
   "id": "6ebc845e",
   "metadata": {},
   "outputs": [
    {
     "ename": "SyntaxError",
     "evalue": "unexpected character after line continuation character (2463142686.py, line 73)",
     "output_type": "error",
     "traceback": [
      "\u001b[1;36m  Input \u001b[1;32mIn [1]\u001b[1;36m\u001b[0m\n\u001b[1;33m    self.roi = self.tYcashflow \\ self.cashIn_Total * 100\u001b[0m\n\u001b[1;37m                                ^\u001b[0m\n\u001b[1;31mSyntaxError\u001b[0m\u001b[1;31m:\u001b[0m unexpected character after line continuation character\n"
     ]
    }
   ],
   "source": [
    "class HomeBuyer():\n",
    "    def __init__(self):\n",
    "        self.home = home\n",
    "        self.income_dict = {}\n",
    "        self.income_list = []\n",
    "        self.income_lsit2 = []\n",
    "        self.expenses_dict = {}\n",
    "        self.expenses_list = []\n",
    "        self.expenses_list2 = []\n",
    "        self.cashIn_dict = {}\n",
    "        self.cashIn_list = []\n",
    "        self.cashIn_list2 = []\n",
    "        self.cashflow = cashflow\n",
    "        self.tMcashflow = tMcashflow\n",
    "        self.tYcashflow = tYcashflow\n",
    "        self.roi = roi\n",
    "        self.getFinance()\n",
    "        \n",
    "    def getFinance(self,):\n",
    "        \n",
    "        self.home = home\n",
    "        self.income_dict = {}\n",
    "        self.income_list = []\n",
    "        self.income_total = []\n",
    "        self.expenses_dict = {}\n",
    "        self.expenses_list = []\n",
    "        self.expenses_total = []\n",
    "        self.cashIn_dict = {}\n",
    "        self.cashIn_list = []\n",
    "        self.cashIn_total = []\n",
    "        self.cashflow = cashflow\n",
    "        self.tMcashflow = tMcashflow\n",
    "        self.tYcashflow = tYcashflow\n",
    "        self.roi = roi\n",
    "        \n",
    "        \n",
    "        \n",
    "        \n",
    "        while True:\n",
    "            inSource = input('what is the source of your income ')     \n",
    "            inSourceVal =input(f'what is the value of the {inSource}? ')\n",
    "            self.income_dict[inSource] = inSourceVal\n",
    "            self.income_list.append(inSourceVal)\n",
    "            addIncome = input(\"add another source of income? y/n \")\n",
    "            if addIncome == \"n\":\n",
    "                self.income_total = [int(x) for x in self.income_list]\n",
    "                return sum(self.income_total)\n",
    "                break\n",
    "        while True:    \n",
    "            expSource = input('what is the source of your expences ') \n",
    "            expSourceVal =(f'what is the value of the {expSource}? ')\n",
    "            self.expenses_dict[expSource] = expSourceVal\n",
    "            self.expenses_list.append(expSourceVal)\n",
    "            addExpense = input(\"add another source of income? y/n \")\n",
    "            if addExpense == \"n\":\n",
    "                self.expense_total = [int(x) for x in self.expense_list]\n",
    "                return sum(self.expense_total)\n",
    "                break\n",
    "        while True:\n",
    "            cashIn_value = input('how much money did you put into this deal? ')  \n",
    "            cashIn_item = input(f'what was the {cashIn_value} for ? ')\n",
    "            self.cashIn_Dict[cashIn_item] = cashIn_value\n",
    "            self.cashIn_list.append(cashIn_value)\n",
    "            addCash_in = input(\"add another source of income? y/n \")\n",
    "            if addCash_in == \"n\":\n",
    "                self.cashIn_total = [int(x) for x in self.cashIn_list]\n",
    "                return sum(self.cashIn_total)\n",
    "                break\n",
    "                 \n",
    "\n",
    "        self.tMcashflow = self.income_total - self.expense_total\n",
    "        self.tYcashflow = self.tMcashflow * 12\n",
    "        self.roi = self.tYcashflow \\ self.cashIn_Total * 100\n",
    "        \n",
    "        print(self.roi)\n",
    "                 \n",
    "            \n",
    "        \n",
    "        "
   ]
  },
  {
   "cell_type": "code",
   "execution_count": 2,
   "id": "26b67c44",
   "metadata": {},
   "outputs": [
    {
     "ename": "NameError",
     "evalue": "name 'Homebuyer' is not defined",
     "output_type": "error",
     "traceback": [
      "\u001b[1;31m---------------------------------------------------------------------------\u001b[0m",
      "\u001b[1;31mNameError\u001b[0m                                 Traceback (most recent call last)",
      "Input \u001b[1;32mIn [2]\u001b[0m, in \u001b[0;36m<cell line: 1>\u001b[1;34m()\u001b[0m\n\u001b[1;32m----> 1\u001b[0m Shawn \u001b[38;5;241m=\u001b[39m \u001b[43mHomebuyer\u001b[49m()\n",
      "\u001b[1;31mNameError\u001b[0m: name 'Homebuyer' is not defined"
     ]
    }
   ],
   "source": [
    "Shawn = HomeBuyer()"
   ]
  },
  {
   "cell_type": "code",
   "execution_count": 1,
   "id": "c949aff7",
   "metadata": {},
   "outputs": [],
   "source": [
    "class HomeBuyer():\n",
    "    def __init__(self,home,income,expenses,cashflow,roi,cashIn):\n",
    "        self.home = None\n",
    "        self.income = {}\n",
    "        self.expenses ={} \n",
    "        self.cashflow = None\n",
    "        self.roi = None\n",
    "        self.cashIn = {}\n",
    "        \n",
    "\n",
    "                 "
   ]
  },
  {
   "cell_type": "code",
   "execution_count": 1,
   "id": "c01ceee6",
   "metadata": {},
   "outputs": [],
   "source": [
    "def getFinance(self):\n",
    "    income = {}\n",
    "    nIncome = []\n",
    "\n",
    "    \n",
    "    \n",
    "    \n",
    "    while True:\n",
    "        \n",
    "        inSource = input('what is the source of your income ')     \n",
    "        inSourceVal =input(f'what is the value of the {inSource}? ')\n",
    "        nIncome.append(inSourceVal)\n",
    "        addIncome = input(\"add another source of income? y/n \")\n",
    "\n",
    "        if addIncome == \"n\":\n",
    "            nIncome2 = [int(x) for x in nIncome]\n",
    "            print(nIncome2)\n",
    "            print(sum(nIncome2))\n",
    "            break\n",
    "        \n",
    "\n",
    "            \n",
    "\n",
    "        "
   ]
  },
  {
   "cell_type": "code",
   "execution_count": 2,
   "id": "01fd4042",
   "metadata": {
    "scrolled": true
   },
   "outputs": [
    {
     "name": "stdout",
     "output_type": "stream",
     "text": [
      "what is the source of your income y\n",
      "what is the value of the y? 6\n",
      "add another source of income? y/n y\n",
      "what is the source of your income t\n",
      "what is the value of the t? 7\n",
      "add another source of income? y/n n\n",
      "[6, 7]\n",
      "13\n"
     ]
    }
   ],
   "source": [
    "getFinance('shawn')"
   ]
  },
  {
   "cell_type": "code",
   "execution_count": null,
   "id": "07744b7d",
   "metadata": {},
   "outputs": [],
   "source": [
    "    def __init__(self, home, income_dict, income_list, income_total, expenses_dict, expenses_list,\n",
    "                 expenses_total, cashIn_dict, cashIn_list, cashIn_total, cashflow, tMcashflow, self.tYcashflow, roi):"
   ]
  }
 ],
 "metadata": {
  "kernelspec": {
   "display_name": "Python 3 (ipykernel)",
   "language": "python",
   "name": "python3"
  },
  "language_info": {
   "codemirror_mode": {
    "name": "ipython",
    "version": 3
   },
   "file_extension": ".py",
   "mimetype": "text/x-python",
   "name": "python",
   "nbconvert_exporter": "python",
   "pygments_lexer": "ipython3",
   "version": "3.9.12"
  }
 },
 "nbformat": 4,
 "nbformat_minor": 5
}
