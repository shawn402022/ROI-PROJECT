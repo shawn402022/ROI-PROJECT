{
 "cells": [
  {
   "cell_type": "markdown",
   "id": "ea24ec2c",
   "metadata": {},
   "source": [
    "<p>Here we assume that we have a client coming to us askingfor anautomated rental property calculater.</ br>\n",
    "Using OOP create a program that will calculate the return on investment for a rental property.</p>"
   ]
  },
  {
   "cell_type": "code",
   "execution_count": null,
   "id": "26f7df31",
   "metadata": {},
   "outputs": [],
   "source": [
    "#since methods are functions that act upon specific classes I should make the methods calculators"
   ]
  },
  {
   "cell_type": "code",
   "execution_count": null,
   "id": "cac197da",
   "metadata": {},
   "outputs": [],
   "source": [
    "#I want to give the user the option to input detailed or, to a lesser degree, itemized  financial informatio, like \n",
    "# sources of income, expenses etc.\n",
    "\n",
    "#need input for sources of income and the value of that income, and then need to append it to a dictionary."
   ]
  },
  {
   "cell_type": "code",
   "execution_count": null,
   "id": "001eb260",
   "metadata": {},
   "outputs": [],
   "source": [
    "class HomeBuyer():\n",
    "    def __init__(self,home,income,expenses,cashflow):\n",
    "        self.home = home\n",
    "        self.income = {}\n",
    "        self.expenses ={} \n",
    "        self.cashflow ={}\n",
    "        \n",
    "    def getFinance(self,*):\n",
    "        \n",
    "\n",
    "\n",
    "        \n",
    "    def calcFinance(self,*):\n",
    "        print(f\" your total income is {self.income}.)\n",
    "        print(f\" your total expenses is {self.expenses}.)  \n",
    "        print(f\" your total cashflow is {self.cashflow}.)\n",
    "        \n",
    "    \n",
    "    def add(self,*):\n",
    "        pass\n",
    "    \n",
    "    def multiply(self,*):\n",
    "        pass\n",
    "    \n",
    "    def divide(self,*):\n",
    "        pass\n",
    "    \n",
    "    def convertPercent(self,*):\n",
    "        pass\n",
    "        \n",
    "        "
   ]
  }
 ],
 "metadata": {
  "kernelspec": {
   "display_name": "Python 3 (ipykernel)",
   "language": "python",
   "name": "python3"
  },
  "language_info": {
   "codemirror_mode": {
    "name": "ipython",
    "version": 3
   },
   "file_extension": ".py",
   "mimetype": "text/x-python",
   "name": "python",
   "nbconvert_exporter": "python",
   "pygments_lexer": "ipython3",
   "version": "3.9.12"
  }
 },
 "nbformat": 4,
 "nbformat_minor": 5
}
