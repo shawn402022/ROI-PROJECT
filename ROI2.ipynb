{
 "cells": [
  {
   "cell_type": "markdown",
   "id": "f40d412f",
   "metadata": {},
   "source": [
    "<p>Here we assume that we have a client coming to us askingfor anautomated rental property calculater.</ br>\n",
    "Using OOP create a program that will calculate the return on investment for a rental property.</p>"
   ]
  },
  {
   "cell_type": "code",
   "execution_count": null,
   "id": "71a9e369",
   "metadata": {},
   "outputs": [],
   "source": [
    "#since methods are functions that act upon specific classes I should make the methods calculators"
   ]
  },
  {
   "cell_type": "code",
   "execution_count": null,
   "id": "4e6cc206",
   "metadata": {},
   "outputs": [],
   "source": [
    "#I want to give the user the option to input detailed or, to a lesser degree, itemized  financial informatio, like \n",
    "# sources of income, expenses etc.\n",
    "\n",
    "#need input for sources of income and the value of that income, and then need to append it to a dictionary."
   ]
  },
  {
   "cell_type": "code",
   "execution_count": null,
   "id": "473d81a7",
   "metadata": {},
   "outputs": [],
   "source": [
    "class HomeBuyer():\n",
    "    def __init__(self,home,income_dict,income_list,expenses_dict,expenses_list,cashIn_dict,cashIn_list,cashflow,roi,):\n",
    "        self.home = home\n",
    "        self.income_dict = {}\n",
    "        self.income_list = []\n",
    "        self.expenses_dict = {}\n",
    "        self.expenses_list = []\n",
    "        self.cashIn_dict = {}\n",
    "        self.cashIn_list = []\n",
    "        self.cashflow = cashflow\n",
    "        self.roi = roi\n",
    "        self.getFinance()\n",
    "        \n",
    "    def getFinance(self,*):\n",
    "        \n",
    "        self.home = home\n",
    "        self.income_dict = {}\n",
    "        self.income_list = []\n",
    "        self.expenses_dict = {}\n",
    "        self.expenses_list = []\n",
    "        self.cashIn_dict = {}\n",
    "        self.cashIn_list = []\n",
    "        self.cashflow = cashflow\n",
    "        self.roi = roi\n",
    "        \n",
    "        \n",
    "        \n",
    "        \n",
    "        while True:\n",
    "            inSource = input('what is the source of your income ')     \n",
    "            inSourceVal =input(f'what is the value of the {inSource}? ')\n",
    "            self.income_dict[inSource] = inSourceVal\n",
    "            self.income_list.append(inSourceVal)\n",
    "            addIncome = input(\"add another source of income? y/n \")\n",
    "            if addIncome == \"n\":\n",
    "                 break\n",
    "        while True:    \n",
    "            expSource = input('what is the source of your expences ') \n",
    "            expSourceVal =(f'what is the value of the {expSource}? ')\n",
    "            self.expenses[expSource] = expSourceVal\n",
    "            addExpense = input(\"add another source of income? y/n \")\n",
    "            if addExpense == \"n\":\n",
    "                 break\n",
    "        while True:\n",
    "            cashIn_value = input('how much money did you put into this deal? ')  \n",
    "            cashIn_item = input(f'what was the {cashIn_value} for ? ')\n",
    "            self.cashIn[cashIn_item] = cashInvalue\n",
    "            addCash_in = input(\"add another source of income? y/n \")\n",
    "            if addCash_in == \"n\":\n",
    "                 break\n",
    "                 \n",
    "            print(self.income)\n",
    "            print(self.expense)\n",
    "            print(self.cash_in)\n",
    "                 \n",
    "            \n",
    "        \n",
    "        \n",
    "\n",
    "\n",
    "        \n",
    "    def calcFinance(self,*):\n",
    "        print(f\" your total income is {self.income}.)\n",
    "        print(f\" your total expenses is {self.expenses}.)  \n",
    "        print(f\" your total cashflow is {self.cashflow}.)\n",
    "        \n",
    "    \n",
    "    def add(self,*):\n",
    "        pass\n",
    "    \n",
    "    def multiply(self,*):\n",
    "        pass\n",
    "    \n",
    "    def divide(self,*):\n",
    "        pass\n",
    "    \n",
    "    def convertPercent(self,*):\n",
    "        pass\n",
    "        \n",
    "        "
   ]
  },
  {
   "cell_type": "code",
   "execution_count": 1,
   "id": "9848fe10",
   "metadata": {},
   "outputs": [],
   "source": [
    "class HomeBuyer():\n",
    "    def __init__(self,home,income,expenses,cashflow,roi,cashIn):\n",
    "        self.home = None\n",
    "        self.income = {}\n",
    "        self.expenses ={} \n",
    "        self.cashflow = None\n",
    "        self.roi = None\n",
    "        self.cashIn = {}\n",
    "        \n",
    "\n",
    "                 "
   ]
  },
  {
   "cell_type": "code",
   "execution_count": 1,
   "id": "5c4416a8",
   "metadata": {},
   "outputs": [],
   "source": [
    "def getFinance(self):\n",
    "    income = {}\n",
    "    nIncome = []\n",
    "\n",
    "    \n",
    "    \n",
    "    \n",
    "    while True:\n",
    "        \n",
    "        inSource = input('what is the source of your income ')     \n",
    "        inSourceVal =input(f'what is the value of the {inSource}? ')\n",
    "        nIncome.append(inSourceVal)\n",
    "        addIncome = input(\"add another source of income? y/n \")\n",
    "\n",
    "        if addIncome == \"n\":\n",
    "            nIncome2 = [int(x) for x in nIncome]\n",
    "            print(nIncome2)\n",
    "            print(sum(nIncome2))\n",
    "            break\n",
    "        \n",
    "\n",
    "            \n",
    "\n",
    "        "
   ]
  },
  {
   "cell_type": "code",
   "execution_count": 2,
   "id": "fccb9946",
   "metadata": {
    "scrolled": true
   },
   "outputs": [
    {
     "name": "stdout",
     "output_type": "stream",
     "text": [
      "what is the source of your income y\n",
      "what is the value of the y? 6\n",
      "add another source of income? y/n y\n",
      "what is the source of your income t\n",
      "what is the value of the t? 7\n",
      "add another source of income? y/n n\n",
      "[6, 7]\n",
      "13\n"
     ]
    }
   ],
   "source": [
    "getFinance('shawn')"
   ]
  },
  {
   "cell_type": "code",
   "execution_count": null,
   "id": "476cb416",
   "metadata": {},
   "outputs": [],
   "source": []
  }
 ],
 "metadata": {
  "kernelspec": {
   "display_name": "Python 3 (ipykernel)",
   "language": "python",
   "name": "python3"
  },
  "language_info": {
   "codemirror_mode": {
    "name": "ipython",
    "version": 3
   },
   "file_extension": ".py",
   "mimetype": "text/x-python",
   "name": "python",
   "nbconvert_exporter": "python",
   "pygments_lexer": "ipython3",
   "version": "3.9.12"
  }
 },
 "nbformat": 4,
 "nbformat_minor": 5
}
