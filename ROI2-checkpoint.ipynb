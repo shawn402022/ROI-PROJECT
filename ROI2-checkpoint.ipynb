{
 "cells": [
  {
   "cell_type": "markdown",
   "id": "498fa2d8",
   "metadata": {},
   "source": [
    "<p>Here we assume that we have a client coming to us askingfor anautomated rental property calculater.</ br>\n",
    "Using OOP create a program that will calculate the return on investment for a rental property.</p>"
   ]
  },
  {
   "cell_type": "code",
   "execution_count": null,
   "id": "840b1a3c",
   "metadata": {},
   "outputs": [],
   "source": [
    "#since methods are functions that act upon specific classes I should make the methods calculators"
   ]
  },
  {
   "cell_type": "code",
   "execution_count": null,
   "id": "71546160",
   "metadata": {},
   "outputs": [],
   "source": [
    "class ROI():\n",
    "    def __init__(self,home,income,expenses,cashflow):\n",
    "        self.home = home\n",
    "        self.income = income\n",
    "        self.expenses = expenses\n",
    "        self.cashflow = cashflow\n",
    "    \n",
    "    def add(self,*):\n",
    "        pass\n",
    "    \n",
    "    def multiply(self,*):\n",
    "        pass\n",
    "    \n",
    "    def divide(self,*):\n",
    "        pass\n",
    "    \n",
    "    def convertPercent(self,*):\n",
    "        pass\n",
    "        \n",
    "        "
   ]
  }
 ],
 "metadata": {
  "kernelspec": {
   "display_name": "Python 3 (ipykernel)",
   "language": "python",
   "name": "python3"
  },
  "language_info": {
   "codemirror_mode": {
    "name": "ipython",
    "version": 3
   },
   "file_extension": ".py",
   "mimetype": "text/x-python",
   "name": "python",
   "nbconvert_exporter": "python",
   "pygments_lexer": "ipython3",
   "version": "3.9.12"
  }
 },
 "nbformat": 4,
 "nbformat_minor": 5
}
